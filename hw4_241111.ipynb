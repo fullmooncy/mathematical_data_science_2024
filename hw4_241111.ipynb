{
 "cells": [
  {
   "cell_type": "code",
   "execution_count": 2,
   "id": "0fe6896b-c448-47ed-a376-bd624156a557",
   "metadata": {},
   "outputs": [],
   "source": [
    "# hw4-3-b)\n",
    "# modified by Moon Chan Yeong\n",
    "import random\n",
    "import numpy\n",
    "import matplotlib.pyplot as plot\n",
    "\n",
    "mu = 0  # exact mean value\n",
    "N = 10000  # sample size\n",
    "M = 10000  #  sample times\n",
    "\n",
    "mu_N = []\n",
    "\n",
    "for m in range(M):\n",
    "    x_value = []\n",
    "    x_sum = 0\n",
    "    for n in range(N):\n",
    "        x = random.choices([-1,1], weights=[0.5, 0.5])\n",
    "        x_value.append(x[0])\n",
    "        x_sum += x[0]\n",
    "    mu_N.append(x_sum/N)"
   ]
  },
  {
   "cell_type": "code",
   "execution_count": 3,
   "id": "0453827c-623f-426b-aa92-af0b31000bd3",
   "metadata": {},
   "outputs": [
    {
     "name": "stdout",
     "output_type": "stream",
     "text": [
      "mu_star: 0.00014186000000000005\n",
      "sigma_star: 0.010017524631384741\n"
     ]
    },
    {
     "data": {
      "text/plain": [
       "<function matplotlib.pyplot.show(close=None, block=None)>"
      ]
     },
     "execution_count": 3,
     "metadata": {},
     "output_type": "execute_result"
    },
    {
     "data": {
      "image/png": "[encoded data removed]",
      "text/plain": [
       "<Figure size 640x480 with 1 Axes>"
      ]
     },
     "metadata": {},
     "output_type": "display_data"
    }
   ],
   "source": [
    "# Compute the mean mu_star and the standard deviation sigma_star of mu_N.\n",
    "# mean mu_star\n",
    "mu_star = numpy.mean(mu_N)\n",
    "print(f\"mu_star: {mu_star}\")\n",
    "sigma_star = numpy.std(mu_N)\n",
    "print(f\"sigma_star: {sigma_star}\")\n",
    "\n",
    "# Plot the distribution of mu_N\n",
    "plot.hist(mu_N, bins=30, edgecolor='black')\n",
    "plot.title('Fig1. The distribution of mu_N (N= 10,000, M=10,000)')\n",
    "plot.xlabel('mu_N')\n",
    "plot.ylabel('Frequency')\n",
    "plot.show"
   ]
  },
  {
   "cell_type": "code",
   "execution_count": null,
   "id": "dd790845-e415-4a89-9020-49b4db5be43d",
   "metadata": {},
   "outputs": [],
   "source": []
  },
  {
   "cell_type": "code",
   "execution_count": 5,
   "id": "3535876e-28be-486a-aeeb-55f6d3ba00e5",
   "metadata": {},
   "outputs": [],
   "source": [
    "# hw4-3)-c)\n",
    "import random\n",
    "import numpy\n",
    "import math \n",
    "\n",
    "mu = 0  # exact mean value\n",
    "N = 100000000  # sample size\n",
    "# M = 10000  #  sets\n",
    "\n",
    "mean_of_mu_N = []\n",
    "\n",
    "for t in range(30):\n",
    "    x_value = []\n",
    "    for n in range(N):\n",
    "        x = random.choices([-1,1], weights=[0.5, 0.5])\n",
    "        x_value.append(x[0])\n",
    "    mean_of_mu_N.append(numpy.mean(x_value))"
   ]
  },
  {
   "cell_type": "code",
   "execution_count": 6,
   "id": "5438f0f3-9276-41ea-b6f4-a1e204aae3c6",
   "metadata": {},
   "outputs": [
    {
     "name": "stdout",
     "output_type": "stream",
     "text": [
      "-7.437333333333336e-06\n",
      "0.00010318522177564426\n"
     ]
    }
   ],
   "source": [
    "print(numpy.mean(mean_of_mu_N))\n",
    "print(numpy.std(mean_of_mu_N))"
   ]
  },
  {
   "cell_type": "code",
   "execution_count": 7,
   "id": "3e1169ae-2c27-48fd-8a26-2bd52a84e870",
   "metadata": {},
   "outputs": [
    {
     "data": {
      "text/plain": [
       "[7.592e-05,\n",
       " 7.856e-05,\n",
       " -0.00015246,\n",
       " -6.76e-06,\n",
       " 5.764e-05,\n",
       " -0.00011956,\n",
       " -0.0001225,\n",
       " 0.00014616,\n",
       " 9.28e-05,\n",
       " 5.214e-05,\n",
       " -0.00013122,\n",
       " -0.00014648,\n",
       " 9.562e-05,\n",
       " 6.03e-05,\n",
       " 0.00023142,\n",
       " 6.66e-05,\n",
       " 0.00015124,\n",
       " -3.846e-05,\n",
       " -1.704e-05,\n",
       " 7.118e-05,\n",
       " -3.768e-05,\n",
       " 4.008e-05,\n",
       " -3.802e-05,\n",
       " 1.288e-05,\n",
       " -0.0001321,\n",
       " -0.00012526,\n",
       " -0.0001269,\n",
       " -4.124e-05,\n",
       " -8.17e-05,\n",
       " -0.00013828]"
      ]
     },
     "execution_count": 7,
     "metadata": {},
     "output_type": "execute_result"
    }
   ],
   "source": [
    "mean_of_mu_N"
   ]
  },
  {
   "cell_type": "code",
   "execution_count": 8,
   "id": "9e13c1c5-9036-4713-a859-0c0b179e0f5a",
   "metadata": {},
   "outputs": [],
   "source": [
    "# hw4-3)-c)\n",
    "# Method 2\n",
    "\n",
    "N = 10000000\n",
    "n = 10000\n",
    "m = int(N/n)  # 1000\n",
    "\n",
    "m2_list = []\n",
    "\n",
    "for t in range(30):\n",
    "    mu_N = []\n",
    "    for i in range(m):\n",
    "        x_value = []\n",
    "        for i in range(n):\n",
    "            x = random.choices([-1,1], weights=[0.5, 0.5])\n",
    "            x_value.append(x[0])\n",
    "        mu_N.append(numpy.mean(x_value))\n",
    "    m2_list.append(numpy.mean(mu_N)) # 표본 평균의 평균"
   ]
  },
  {
   "cell_type": "code",
   "execution_count": 9,
   "id": "a5661d57-be91-4e8e-a363-08380cc1ed1a",
   "metadata": {},
   "outputs": [
    {
     "name": "stdout",
     "output_type": "stream",
     "text": [
      "2.9213333333333327e-05\n",
      "0.00023405236413152412\n"
     ]
    }
   ],
   "source": [
    "print(numpy.mean(m2_list))\n",
    "print(numpy.std(m2_list))"
   ]
  },
  {
   "cell_type": "code",
   "execution_count": 10,
   "id": "3ffcbc4e-5d32-4d0b-8ffd-f09446cf8c98",
   "metadata": {},
   "outputs": [
    {
     "data": {
      "text/plain": [
       "[0.0003937999999999999,\n",
       " -5.000000000000005e-06,\n",
       " 1.32000000000001e-05,\n",
       " -0.00023719999999999994,\n",
       " -0.00028720000000000004,\n",
       " 7.760000000000006e-05,\n",
       " -3.059999999999997e-05,\n",
       " -0.000152,\n",
       " 0.0003166,\n",
       " 0.00014339999999999996,\n",
       " 0.00011459999999999995,\n",
       " -0.00039879999999999994,\n",
       " -9.599999999999942e-06,\n",
       " 0.00011000000000000003,\n",
       " -0.00015880000000000007,\n",
       " -0.00032799999999999995,\n",
       " -0.00022020000000000012,\n",
       " 0.00040380000000000006,\n",
       " -8.359999999999999e-05,\n",
       " 0.0002492,\n",
       " -7.39999999999999e-06,\n",
       " 0.00034339999999999994,\n",
       " 0.000416,\n",
       " -8.480000000000001e-05,\n",
       " 8.939999999999998e-05,\n",
       " 0.00044199999999999996,\n",
       " 8.779999999999988e-05,\n",
       " -0.00029200000000000005,\n",
       " -0.00013979999999999998,\n",
       " 0.00011059999999999992]"
      ]
     },
     "execution_count": 10,
     "metadata": {},
     "output_type": "execute_result"
    }
   ],
   "source": [
    "m2_list"
   ]
  },
  {
   "cell_type": "code",
   "execution_count": null,
   "id": "5a485702-e7fc-4d53-877a-1906499ef85d",
   "metadata": {},
   "outputs": [],
   "source": []
  }
 ],
 "metadata": {
  "kernelspec": {
   "display_name": "Python 3 (ipykernel)",
   "language": "python",
   "name": "python3"
  },
  "language_info": {
   "codemirror_mode": {
    "name": "ipython",
    "version": 3
   },
   "file_extension": ".py",
   "mimetype": "text/x-python",
   "name": "python",
   "nbconvert_exporter": "python",
   "pygments_lexer": "ipython3",
   "version": "3.12.4"
  }
 },
 "nbformat": 4,
 "nbformat_minor": 5
}
